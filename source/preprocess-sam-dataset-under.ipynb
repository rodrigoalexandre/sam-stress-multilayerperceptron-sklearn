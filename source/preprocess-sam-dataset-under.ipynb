{
 "cells": [
  {
   "cell_type": "markdown",
   "id": "6b4dcd61",
   "metadata": {},
   "source": [
    "#### Load the dataset for preprocessing."
   ]
  },
  {
   "cell_type": "code",
   "execution_count": 1,
   "id": "44296a43",
   "metadata": {},
   "outputs": [],
   "source": [
    "import pandas as pd\n",
    "\n",
    "df = pd.read_csv('../dataset/original-sam-dataset.csv', sep='|')"
   ]
  },
  {
   "cell_type": "markdown",
   "id": "9bb29b14",
   "metadata": {},
   "source": [
    "#### Display the dataset size."
   ]
  },
  {
   "cell_type": "code",
   "execution_count": 2,
   "id": "2aaa7fae",
   "metadata": {},
   "outputs": [
    {
     "data": {
      "text/plain": [
       "(1536000, 33)"
      ]
     },
     "execution_count": 2,
     "metadata": {},
     "output_type": "execute_result"
    }
   ],
   "source": [
    "df.shape"
   ]
  },
  {
   "cell_type": "markdown",
   "id": "84160098",
   "metadata": {},
   "source": [
    "#### Display dataset data types."
   ]
  },
  {
   "cell_type": "code",
   "execution_count": 3,
   "id": "57902a96",
   "metadata": {},
   "outputs": [
    {
     "data": {
      "text/plain": [
       "CZ       float64\n",
       "FZ       float64\n",
       "Fp1      float64\n",
       "F7       float64\n",
       "F3       float64\n",
       "FC1      float64\n",
       "C3       float64\n",
       "FC5      float64\n",
       "FT9      float64\n",
       "T7       float64\n",
       "CP5      float64\n",
       "CP1      float64\n",
       "P3       float64\n",
       "P7       float64\n",
       "PO9      float64\n",
       "O1       float64\n",
       "PZ       float64\n",
       "OZ       float64\n",
       "O2       float64\n",
       "PO10     float64\n",
       "P8       float64\n",
       "P4       float64\n",
       "CP2      float64\n",
       "CP6      float64\n",
       "T8       float64\n",
       "FT10     float64\n",
       "FC6      float64\n",
       "C4       float64\n",
       "FC2      float64\n",
       "F4       float64\n",
       "F8       float64\n",
       "Fp2      float64\n",
       "Scale      int64\n",
       "dtype: object"
      ]
     },
     "execution_count": 3,
     "metadata": {},
     "output_type": "execute_result"
    }
   ],
   "source": [
    "df.dtypes"
   ]
  },
  {
   "cell_type": "markdown",
   "id": "6f0f0c8f",
   "metadata": {},
   "source": [
    "#### Verify the first rows of the dataset.\n",
    "- Values were recorded with up to 16 decimal places."
   ]
  },
  {
   "cell_type": "code",
   "execution_count": 4,
   "id": "2d9b7bd2",
   "metadata": {},
   "outputs": [],
   "source": [
    "pd.set_option(\"display.precision\", 16)"
   ]
  },
  {
   "cell_type": "code",
   "execution_count": 5,
   "id": "594b3180",
   "metadata": {},
   "outputs": [
    {
     "data": {
      "text/html": [
       "<div>\n",
       "<style scoped>\n",
       "    .dataframe tbody tr th:only-of-type {\n",
       "        vertical-align: middle;\n",
       "    }\n",
       "\n",
       "    .dataframe tbody tr th {\n",
       "        vertical-align: top;\n",
       "    }\n",
       "\n",
       "    .dataframe thead th {\n",
       "        text-align: right;\n",
       "    }\n",
       "</style>\n",
       "<table border=\"1\" class=\"dataframe\">\n",
       "  <thead>\n",
       "    <tr style=\"text-align: right;\">\n",
       "      <th></th>\n",
       "      <th>CZ</th>\n",
       "      <th>FZ</th>\n",
       "      <th>Fp1</th>\n",
       "      <th>F7</th>\n",
       "      <th>F3</th>\n",
       "      <th>FC1</th>\n",
       "      <th>C3</th>\n",
       "      <th>FC5</th>\n",
       "      <th>FT9</th>\n",
       "      <th>T7</th>\n",
       "      <th>...</th>\n",
       "      <th>CP6</th>\n",
       "      <th>T8</th>\n",
       "      <th>FT10</th>\n",
       "      <th>FC6</th>\n",
       "      <th>C4</th>\n",
       "      <th>FC2</th>\n",
       "      <th>F4</th>\n",
       "      <th>F8</th>\n",
       "      <th>Fp2</th>\n",
       "      <th>Scale</th>\n",
       "    </tr>\n",
       "  </thead>\n",
       "  <tbody>\n",
       "    <tr>\n",
       "      <th>0</th>\n",
       "      <td>-1.2383486114945983</td>\n",
       "      <td>5.2794326933772240</td>\n",
       "      <td>3.9814746145283482</td>\n",
       "      <td>2.6280416190806322</td>\n",
       "      <td>-2.1007678335999249</td>\n",
       "      <td>-1.9989967686700336</td>\n",
       "      <td>-4.9883669305570884</td>\n",
       "      <td>-3.7803177749639976</td>\n",
       "      <td>-4.7583095500925143</td>\n",
       "      <td>-5.5689874359255596</td>\n",
       "      <td>...</td>\n",
       "      <td>-0.3924718416205484</td>\n",
       "      <td>-1.7170901157628116</td>\n",
       "      <td>-0.8100412282863649</td>\n",
       "      <td>0.6378802287893857</td>\n",
       "      <td>2.5998138046934560</td>\n",
       "      <td>3.0299823736891707</td>\n",
       "      <td>3.3972778537286241</td>\n",
       "      <td>3.9683485809900998</td>\n",
       "      <td>0.4550118825535070</td>\n",
       "      <td>6</td>\n",
       "    </tr>\n",
       "    <tr>\n",
       "      <th>1</th>\n",
       "      <td>1.4239787068597041</td>\n",
       "      <td>5.1104486668960769</td>\n",
       "      <td>6.3427004459512704</td>\n",
       "      <td>5.6338457405544293</td>\n",
       "      <td>2.1580544919595699</td>\n",
       "      <td>0.7277104025179058</td>\n",
       "      <td>0.0692525735196927</td>\n",
       "      <td>-0.3670844266820248</td>\n",
       "      <td>1.0434583271706359</td>\n",
       "      <td>3.0776204511198348</td>\n",
       "      <td>...</td>\n",
       "      <td>6.0406631743693397</td>\n",
       "      <td>7.2412057884495233</td>\n",
       "      <td>6.8066635697671645</td>\n",
       "      <td>4.4704639885723330</td>\n",
       "      <td>2.7907139030290846</td>\n",
       "      <td>3.5243011533507245</td>\n",
       "      <td>3.9385629593110658</td>\n",
       "      <td>4.7654203028335829</td>\n",
       "      <td>4.2802985157017019</td>\n",
       "      <td>6</td>\n",
       "    </tr>\n",
       "    <tr>\n",
       "      <th>2</th>\n",
       "      <td>5.4872093810322484</td>\n",
       "      <td>5.3143669631815964</td>\n",
       "      <td>4.9368189755393743</td>\n",
       "      <td>3.5669702639322312</td>\n",
       "      <td>3.5725592376445539</td>\n",
       "      <td>4.8564403202529460</td>\n",
       "      <td>4.3979784374839674</td>\n",
       "      <td>1.2692383019345774</td>\n",
       "      <td>-1.0993331984673311</td>\n",
       "      <td>1.8191022315402043</td>\n",
       "      <td>...</td>\n",
       "      <td>7.5005470692552771</td>\n",
       "      <td>9.2785083157865760</td>\n",
       "      <td>9.1588271666405596</td>\n",
       "      <td>8.1502025024818696</td>\n",
       "      <td>3.7953687226701280</td>\n",
       "      <td>2.7811957820403830</td>\n",
       "      <td>4.4025206038998919</td>\n",
       "      <td>6.6044161101225392</td>\n",
       "      <td>5.9452103000926622</td>\n",
       "      <td>6</td>\n",
       "    </tr>\n",
       "    <tr>\n",
       "      <th>3</th>\n",
       "      <td>0.3620324272079864</td>\n",
       "      <td>-0.5394029122556379</td>\n",
       "      <td>1.1851194275005092</td>\n",
       "      <td>0.6802814922997784</td>\n",
       "      <td>-0.1321814964857504</td>\n",
       "      <td>0.0459274606719242</td>\n",
       "      <td>-0.2359971733171697</td>\n",
       "      <td>1.5376711110445811</td>\n",
       "      <td>2.1871602464926743</td>\n",
       "      <td>0.7377086216647857</td>\n",
       "      <td>...</td>\n",
       "      <td>1.7832389555799917</td>\n",
       "      <td>0.4461840601688687</td>\n",
       "      <td>0.4010784083839049</td>\n",
       "      <td>0.9076386951514276</td>\n",
       "      <td>1.0941557628471985</td>\n",
       "      <td>-1.3156980408229739</td>\n",
       "      <td>0.0245936633898042</td>\n",
       "      <td>1.0686564785634871</td>\n",
       "      <td>5.6591524277145702</td>\n",
       "      <td>6</td>\n",
       "    </tr>\n",
       "    <tr>\n",
       "      <th>4</th>\n",
       "      <td>-5.6885209146824316</td>\n",
       "      <td>-9.1236032918793857</td>\n",
       "      <td>-4.4132584297255173</td>\n",
       "      <td>-3.7610823774458231</td>\n",
       "      <td>-5.5381653052650437</td>\n",
       "      <td>-7.1230408015231719</td>\n",
       "      <td>-5.5360395566463243</td>\n",
       "      <td>-2.0490934259723002</td>\n",
       "      <td>0.8579566729164694</td>\n",
       "      <td>-0.1068054073449720</td>\n",
       "      <td>...</td>\n",
       "      <td>-4.1473359454541576</td>\n",
       "      <td>-4.7962412864987582</td>\n",
       "      <td>-5.7428952960390616</td>\n",
       "      <td>-5.0867927181204484</td>\n",
       "      <td>-3.8277625649506430</td>\n",
       "      <td>-3.9844719056148690</td>\n",
       "      <td>-6.5679845602254332</td>\n",
       "      <td>-8.9763748395718945</td>\n",
       "      <td>2.1767166228500425</td>\n",
       "      <td>6</td>\n",
       "    </tr>\n",
       "  </tbody>\n",
       "</table>\n",
       "<p>5 rows × 33 columns</p>\n",
       "</div>"
      ],
      "text/plain": [
       "                   CZ                  FZ                 Fp1  \\\n",
       "0 -1.2383486114945983  5.2794326933772240  3.9814746145283482   \n",
       "1  1.4239787068597041  5.1104486668960769  6.3427004459512704   \n",
       "2  5.4872093810322484  5.3143669631815964  4.9368189755393743   \n",
       "3  0.3620324272079864 -0.5394029122556379  1.1851194275005092   \n",
       "4 -5.6885209146824316 -9.1236032918793857 -4.4132584297255173   \n",
       "\n",
       "                   F7                  F3                 FC1  \\\n",
       "0  2.6280416190806322 -2.1007678335999249 -1.9989967686700336   \n",
       "1  5.6338457405544293  2.1580544919595699  0.7277104025179058   \n",
       "2  3.5669702639322312  3.5725592376445539  4.8564403202529460   \n",
       "3  0.6802814922997784 -0.1321814964857504  0.0459274606719242   \n",
       "4 -3.7610823774458231 -5.5381653052650437 -7.1230408015231719   \n",
       "\n",
       "                   C3                 FC5                 FT9  \\\n",
       "0 -4.9883669305570884 -3.7803177749639976 -4.7583095500925143   \n",
       "1  0.0692525735196927 -0.3670844266820248  1.0434583271706359   \n",
       "2  4.3979784374839674  1.2692383019345774 -1.0993331984673311   \n",
       "3 -0.2359971733171697  1.5376711110445811  2.1871602464926743   \n",
       "4 -5.5360395566463243 -2.0490934259723002  0.8579566729164694   \n",
       "\n",
       "                   T7  ...                 CP6                  T8  \\\n",
       "0 -5.5689874359255596  ... -0.3924718416205484 -1.7170901157628116   \n",
       "1  3.0776204511198348  ...  6.0406631743693397  7.2412057884495233   \n",
       "2  1.8191022315402043  ...  7.5005470692552771  9.2785083157865760   \n",
       "3  0.7377086216647857  ...  1.7832389555799917  0.4461840601688687   \n",
       "4 -0.1068054073449720  ... -4.1473359454541576 -4.7962412864987582   \n",
       "\n",
       "                 FT10                 FC6                  C4  \\\n",
       "0 -0.8100412282863649  0.6378802287893857  2.5998138046934560   \n",
       "1  6.8066635697671645  4.4704639885723330  2.7907139030290846   \n",
       "2  9.1588271666405596  8.1502025024818696  3.7953687226701280   \n",
       "3  0.4010784083839049  0.9076386951514276  1.0941557628471985   \n",
       "4 -5.7428952960390616 -5.0867927181204484 -3.8277625649506430   \n",
       "\n",
       "                  FC2                  F4                  F8  \\\n",
       "0  3.0299823736891707  3.3972778537286241  3.9683485809900998   \n",
       "1  3.5243011533507245  3.9385629593110658  4.7654203028335829   \n",
       "2  2.7811957820403830  4.4025206038998919  6.6044161101225392   \n",
       "3 -1.3156980408229739  0.0245936633898042  1.0686564785634871   \n",
       "4 -3.9844719056148690 -6.5679845602254332 -8.9763748395718945   \n",
       "\n",
       "                  Fp2  Scale  \n",
       "0  0.4550118825535070      6  \n",
       "1  4.2802985157017019      6  \n",
       "2  5.9452103000926622      6  \n",
       "3  5.6591524277145702      6  \n",
       "4  2.1767166228500425      6  \n",
       "\n",
       "[5 rows x 33 columns]"
      ]
     },
     "execution_count": 5,
     "metadata": {},
     "output_type": "execute_result"
    }
   ],
   "source": [
    "df.head()"
   ]
  },
  {
   "cell_type": "markdown",
   "id": "bd614fa4",
   "metadata": {},
   "source": [
    "#### Display dataset statistics."
   ]
  },
  {
   "cell_type": "code",
   "execution_count": 6,
   "id": "7e39ba8e",
   "metadata": {},
   "outputs": [],
   "source": [
    "pd.set_option('display.max_columns', None)"
   ]
  },
  {
   "cell_type": "code",
   "execution_count": 7,
   "id": "2e584809",
   "metadata": {},
   "outputs": [
    {
     "data": {
      "text/html": [
       "<div>\n",
       "<style scoped>\n",
       "    .dataframe tbody tr th:only-of-type {\n",
       "        vertical-align: middle;\n",
       "    }\n",
       "\n",
       "    .dataframe tbody tr th {\n",
       "        vertical-align: top;\n",
       "    }\n",
       "\n",
       "    .dataframe thead th {\n",
       "        text-align: right;\n",
       "    }\n",
       "</style>\n",
       "<table border=\"1\" class=\"dataframe\">\n",
       "  <thead>\n",
       "    <tr style=\"text-align: right;\">\n",
       "      <th></th>\n",
       "      <th>CZ</th>\n",
       "      <th>FZ</th>\n",
       "      <th>Fp1</th>\n",
       "      <th>F7</th>\n",
       "      <th>F3</th>\n",
       "      <th>FC1</th>\n",
       "      <th>C3</th>\n",
       "      <th>FC5</th>\n",
       "      <th>FT9</th>\n",
       "      <th>T7</th>\n",
       "    </tr>\n",
       "  </thead>\n",
       "  <tbody>\n",
       "    <tr>\n",
       "      <th>count</th>\n",
       "      <td>1536000.000</td>\n",
       "      <td>1536000.000</td>\n",
       "      <td>1536000.000</td>\n",
       "      <td>1536000.000</td>\n",
       "      <td>1536000.000</td>\n",
       "      <td>1536000.000</td>\n",
       "      <td>1536000.000</td>\n",
       "      <td>1536000.000</td>\n",
       "      <td>1536000.000</td>\n",
       "      <td>1536000.000</td>\n",
       "    </tr>\n",
       "    <tr>\n",
       "      <th>mean</th>\n",
       "      <td>-0.010</td>\n",
       "      <td>-0.021</td>\n",
       "      <td>-0.013</td>\n",
       "      <td>-0.012</td>\n",
       "      <td>-0.019</td>\n",
       "      <td>-0.025</td>\n",
       "      <td>-0.023</td>\n",
       "      <td>-0.016</td>\n",
       "      <td>-0.014</td>\n",
       "      <td>-0.011</td>\n",
       "    </tr>\n",
       "    <tr>\n",
       "      <th>std</th>\n",
       "      <td>7.727</td>\n",
       "      <td>8.584</td>\n",
       "      <td>8.790</td>\n",
       "      <td>8.267</td>\n",
       "      <td>7.036</td>\n",
       "      <td>7.067</td>\n",
       "      <td>6.754</td>\n",
       "      <td>5.871</td>\n",
       "      <td>5.794</td>\n",
       "      <td>5.498</td>\n",
       "    </tr>\n",
       "    <tr>\n",
       "      <th>min</th>\n",
       "      <td>-49.585</td>\n",
       "      <td>-42.544</td>\n",
       "      <td>-48.985</td>\n",
       "      <td>-48.485</td>\n",
       "      <td>-37.925</td>\n",
       "      <td>-38.264</td>\n",
       "      <td>-34.834</td>\n",
       "      <td>-30.733</td>\n",
       "      <td>-33.743</td>\n",
       "      <td>-32.798</td>\n",
       "    </tr>\n",
       "    <tr>\n",
       "      <th>25%</th>\n",
       "      <td>-5.116</td>\n",
       "      <td>-5.684</td>\n",
       "      <td>-5.753</td>\n",
       "      <td>-5.355</td>\n",
       "      <td>-4.597</td>\n",
       "      <td>-4.669</td>\n",
       "      <td>-4.453</td>\n",
       "      <td>-3.834</td>\n",
       "      <td>-3.789</td>\n",
       "      <td>-3.604</td>\n",
       "    </tr>\n",
       "    <tr>\n",
       "      <th>50%</th>\n",
       "      <td>-0.024</td>\n",
       "      <td>-0.084</td>\n",
       "      <td>-0.101</td>\n",
       "      <td>-0.100</td>\n",
       "      <td>-0.049</td>\n",
       "      <td>-0.058</td>\n",
       "      <td>-0.049</td>\n",
       "      <td>-0.032</td>\n",
       "      <td>-0.034</td>\n",
       "      <td>-0.041</td>\n",
       "    </tr>\n",
       "    <tr>\n",
       "      <th>75%</th>\n",
       "      <td>5.097</td>\n",
       "      <td>5.574</td>\n",
       "      <td>5.569</td>\n",
       "      <td>5.192</td>\n",
       "      <td>4.515</td>\n",
       "      <td>4.591</td>\n",
       "      <td>4.388</td>\n",
       "      <td>3.785</td>\n",
       "      <td>3.733</td>\n",
       "      <td>3.564</td>\n",
       "    </tr>\n",
       "    <tr>\n",
       "      <th>max</th>\n",
       "      <td>51.501</td>\n",
       "      <td>47.776</td>\n",
       "      <td>57.991</td>\n",
       "      <td>60.306</td>\n",
       "      <td>47.887</td>\n",
       "      <td>39.639</td>\n",
       "      <td>36.767</td>\n",
       "      <td>36.827</td>\n",
       "      <td>40.532</td>\n",
       "      <td>35.447</td>\n",
       "    </tr>\n",
       "  </tbody>\n",
       "</table>\n",
       "</div>"
      ],
      "text/plain": [
       "                CZ           FZ          Fp1           F7           F3  \\\n",
       "count  1536000.000  1536000.000  1536000.000  1536000.000  1536000.000   \n",
       "mean        -0.010       -0.021       -0.013       -0.012       -0.019   \n",
       "std          7.727        8.584        8.790        8.267        7.036   \n",
       "min        -49.585      -42.544      -48.985      -48.485      -37.925   \n",
       "25%         -5.116       -5.684       -5.753       -5.355       -4.597   \n",
       "50%         -0.024       -0.084       -0.101       -0.100       -0.049   \n",
       "75%          5.097        5.574        5.569        5.192        4.515   \n",
       "max         51.501       47.776       57.991       60.306       47.887   \n",
       "\n",
       "               FC1           C3          FC5          FT9           T7  \n",
       "count  1536000.000  1536000.000  1536000.000  1536000.000  1536000.000  \n",
       "mean        -0.025       -0.023       -0.016       -0.014       -0.011  \n",
       "std          7.067        6.754        5.871        5.794        5.498  \n",
       "min        -38.264      -34.834      -30.733      -33.743      -32.798  \n",
       "25%         -4.669       -4.453       -3.834       -3.789       -3.604  \n",
       "50%         -0.058       -0.049       -0.032       -0.034       -0.041  \n",
       "75%          4.591        4.388        3.785        3.733        3.564  \n",
       "max         39.639       36.767       36.827       40.532       35.447  "
      ]
     },
     "execution_count": 7,
     "metadata": {},
     "output_type": "execute_result"
    }
   ],
   "source": [
    "df[df.columns[0:10]].describe().apply(lambda s: s.apply('{0:.3f}'.format))"
   ]
  },
  {
   "cell_type": "code",
   "execution_count": 8,
   "id": "f3411405",
   "metadata": {},
   "outputs": [
    {
     "data": {
      "text/html": [
       "<div>\n",
       "<style scoped>\n",
       "    .dataframe tbody tr th:only-of-type {\n",
       "        vertical-align: middle;\n",
       "    }\n",
       "\n",
       "    .dataframe tbody tr th {\n",
       "        vertical-align: top;\n",
       "    }\n",
       "\n",
       "    .dataframe thead th {\n",
       "        text-align: right;\n",
       "    }\n",
       "</style>\n",
       "<table border=\"1\" class=\"dataframe\">\n",
       "  <thead>\n",
       "    <tr style=\"text-align: right;\">\n",
       "      <th></th>\n",
       "      <th>CP5</th>\n",
       "      <th>CP1</th>\n",
       "      <th>P3</th>\n",
       "      <th>P7</th>\n",
       "      <th>PO9</th>\n",
       "      <th>O1</th>\n",
       "      <th>PZ</th>\n",
       "      <th>OZ</th>\n",
       "      <th>O2</th>\n",
       "      <th>PO10</th>\n",
       "    </tr>\n",
       "  </thead>\n",
       "  <tbody>\n",
       "    <tr>\n",
       "      <th>count</th>\n",
       "      <td>1536000.000</td>\n",
       "      <td>1536000.000</td>\n",
       "      <td>1536000.000</td>\n",
       "      <td>1536000.000</td>\n",
       "      <td>1536000.000</td>\n",
       "      <td>1536000.000</td>\n",
       "      <td>1536000.000</td>\n",
       "      <td>1536000.000</td>\n",
       "      <td>1536000.000</td>\n",
       "      <td>1536000.000</td>\n",
       "    </tr>\n",
       "    <tr>\n",
       "      <th>mean</th>\n",
       "      <td>-0.016</td>\n",
       "      <td>-0.017</td>\n",
       "      <td>-0.014</td>\n",
       "      <td>-0.003</td>\n",
       "      <td>-0.003</td>\n",
       "      <td>-0.004</td>\n",
       "      <td>-0.009</td>\n",
       "      <td>-0.006</td>\n",
       "      <td>-0.003</td>\n",
       "      <td>-0.001</td>\n",
       "    </tr>\n",
       "    <tr>\n",
       "      <th>std</th>\n",
       "      <td>6.051</td>\n",
       "      <td>6.867</td>\n",
       "      <td>6.480</td>\n",
       "      <td>5.729</td>\n",
       "      <td>6.291</td>\n",
       "      <td>6.625</td>\n",
       "      <td>7.248</td>\n",
       "      <td>7.274</td>\n",
       "      <td>7.174</td>\n",
       "      <td>6.857</td>\n",
       "    </tr>\n",
       "    <tr>\n",
       "      <th>min</th>\n",
       "      <td>-30.846</td>\n",
       "      <td>-45.417</td>\n",
       "      <td>-43.937</td>\n",
       "      <td>-29.672</td>\n",
       "      <td>-35.670</td>\n",
       "      <td>-41.904</td>\n",
       "      <td>-51.864</td>\n",
       "      <td>-47.037</td>\n",
       "      <td>-42.646</td>\n",
       "      <td>-37.409</td>\n",
       "    </tr>\n",
       "    <tr>\n",
       "      <th>25%</th>\n",
       "      <td>-4.012</td>\n",
       "      <td>-4.491</td>\n",
       "      <td>-4.237</td>\n",
       "      <td>-3.759</td>\n",
       "      <td>-4.113</td>\n",
       "      <td>-4.333</td>\n",
       "      <td>-4.659</td>\n",
       "      <td>-4.683</td>\n",
       "      <td>-4.678</td>\n",
       "      <td>-4.537</td>\n",
       "    </tr>\n",
       "    <tr>\n",
       "      <th>50%</th>\n",
       "      <td>-0.042</td>\n",
       "      <td>-0.039</td>\n",
       "      <td>-0.036</td>\n",
       "      <td>-0.037</td>\n",
       "      <td>-0.060</td>\n",
       "      <td>-0.040</td>\n",
       "      <td>-0.029</td>\n",
       "      <td>-0.032</td>\n",
       "      <td>-0.044</td>\n",
       "      <td>-0.038</td>\n",
       "    </tr>\n",
       "    <tr>\n",
       "      <th>75%</th>\n",
       "      <td>3.961</td>\n",
       "      <td>4.442</td>\n",
       "      <td>4.195</td>\n",
       "      <td>3.716</td>\n",
       "      <td>4.049</td>\n",
       "      <td>4.291</td>\n",
       "      <td>4.626</td>\n",
       "      <td>4.652</td>\n",
       "      <td>4.628</td>\n",
       "      <td>4.497</td>\n",
       "    </tr>\n",
       "    <tr>\n",
       "      <th>max</th>\n",
       "      <td>41.467</td>\n",
       "      <td>44.974</td>\n",
       "      <td>39.826</td>\n",
       "      <td>33.052</td>\n",
       "      <td>33.855</td>\n",
       "      <td>44.044</td>\n",
       "      <td>50.067</td>\n",
       "      <td>54.883</td>\n",
       "      <td>42.188</td>\n",
       "      <td>43.994</td>\n",
       "    </tr>\n",
       "  </tbody>\n",
       "</table>\n",
       "</div>"
      ],
      "text/plain": [
       "               CP5          CP1           P3           P7          PO9  \\\n",
       "count  1536000.000  1536000.000  1536000.000  1536000.000  1536000.000   \n",
       "mean        -0.016       -0.017       -0.014       -0.003       -0.003   \n",
       "std          6.051        6.867        6.480        5.729        6.291   \n",
       "min        -30.846      -45.417      -43.937      -29.672      -35.670   \n",
       "25%         -4.012       -4.491       -4.237       -3.759       -4.113   \n",
       "50%         -0.042       -0.039       -0.036       -0.037       -0.060   \n",
       "75%          3.961        4.442        4.195        3.716        4.049   \n",
       "max         41.467       44.974       39.826       33.052       33.855   \n",
       "\n",
       "                O1           PZ           OZ           O2         PO10  \n",
       "count  1536000.000  1536000.000  1536000.000  1536000.000  1536000.000  \n",
       "mean        -0.004       -0.009       -0.006       -0.003       -0.001  \n",
       "std          6.625        7.248        7.274        7.174        6.857  \n",
       "min        -41.904      -51.864      -47.037      -42.646      -37.409  \n",
       "25%         -4.333       -4.659       -4.683       -4.678       -4.537  \n",
       "50%         -0.040       -0.029       -0.032       -0.044       -0.038  \n",
       "75%          4.291        4.626        4.652        4.628        4.497  \n",
       "max         44.044       50.067       54.883       42.188       43.994  "
      ]
     },
     "execution_count": 8,
     "metadata": {},
     "output_type": "execute_result"
    }
   ],
   "source": [
    "df[df.columns[10:20]].describe().apply(lambda s: s.apply('{0:.3f}'.format))"
   ]
  },
  {
   "cell_type": "code",
   "execution_count": 9,
   "id": "1d0f64fc",
   "metadata": {},
   "outputs": [
    {
     "data": {
      "text/html": [
       "<div>\n",
       "<style scoped>\n",
       "    .dataframe tbody tr th:only-of-type {\n",
       "        vertical-align: middle;\n",
       "    }\n",
       "\n",
       "    .dataframe tbody tr th {\n",
       "        vertical-align: top;\n",
       "    }\n",
       "\n",
       "    .dataframe thead th {\n",
       "        text-align: right;\n",
       "    }\n",
       "</style>\n",
       "<table border=\"1\" class=\"dataframe\">\n",
       "  <thead>\n",
       "    <tr style=\"text-align: right;\">\n",
       "      <th></th>\n",
       "      <th>P8</th>\n",
       "      <th>P4</th>\n",
       "      <th>CP2</th>\n",
       "      <th>CP6</th>\n",
       "      <th>T8</th>\n",
       "      <th>FT10</th>\n",
       "      <th>FC6</th>\n",
       "      <th>C4</th>\n",
       "      <th>FC2</th>\n",
       "      <th>F4</th>\n",
       "    </tr>\n",
       "  </thead>\n",
       "  <tbody>\n",
       "    <tr>\n",
       "      <th>count</th>\n",
       "      <td>1536000.000</td>\n",
       "      <td>1536000.000</td>\n",
       "      <td>1536000.000</td>\n",
       "      <td>1536000.000</td>\n",
       "      <td>1536000.000</td>\n",
       "      <td>1536000.000</td>\n",
       "      <td>1536000.000</td>\n",
       "      <td>1536000.000</td>\n",
       "      <td>1536000.000</td>\n",
       "      <td>1536000.000</td>\n",
       "    </tr>\n",
       "    <tr>\n",
       "      <th>mean</th>\n",
       "      <td>-0.002</td>\n",
       "      <td>-0.012</td>\n",
       "      <td>-0.013</td>\n",
       "      <td>-0.015</td>\n",
       "      <td>-0.012</td>\n",
       "      <td>-0.017</td>\n",
       "      <td>-0.020</td>\n",
       "      <td>-0.024</td>\n",
       "      <td>-0.028</td>\n",
       "      <td>-0.025</td>\n",
       "    </tr>\n",
       "    <tr>\n",
       "      <th>std</th>\n",
       "      <td>7.014</td>\n",
       "      <td>7.503</td>\n",
       "      <td>7.550</td>\n",
       "      <td>7.159</td>\n",
       "      <td>7.339</td>\n",
       "      <td>7.372</td>\n",
       "      <td>7.354</td>\n",
       "      <td>7.600</td>\n",
       "      <td>7.732</td>\n",
       "      <td>7.939</td>\n",
       "    </tr>\n",
       "    <tr>\n",
       "      <th>min</th>\n",
       "      <td>-44.366</td>\n",
       "      <td>-55.229</td>\n",
       "      <td>-52.448</td>\n",
       "      <td>-40.082</td>\n",
       "      <td>-40.586</td>\n",
       "      <td>-41.083</td>\n",
       "      <td>-40.883</td>\n",
       "      <td>-41.263</td>\n",
       "      <td>-41.750</td>\n",
       "      <td>-41.285</td>\n",
       "    </tr>\n",
       "    <tr>\n",
       "      <th>25%</th>\n",
       "      <td>-4.607</td>\n",
       "      <td>-4.915</td>\n",
       "      <td>-4.936</td>\n",
       "      <td>-4.719</td>\n",
       "      <td>-4.827</td>\n",
       "      <td>-4.863</td>\n",
       "      <td>-4.822</td>\n",
       "      <td>-5.003</td>\n",
       "      <td>-5.098</td>\n",
       "      <td>-5.227</td>\n",
       "    </tr>\n",
       "    <tr>\n",
       "      <th>50%</th>\n",
       "      <td>-0.029</td>\n",
       "      <td>-0.029</td>\n",
       "      <td>-0.030</td>\n",
       "      <td>-0.028</td>\n",
       "      <td>-0.008</td>\n",
       "      <td>-0.021</td>\n",
       "      <td>-0.033</td>\n",
       "      <td>-0.044</td>\n",
       "      <td>-0.059</td>\n",
       "      <td>-0.068</td>\n",
       "    </tr>\n",
       "    <tr>\n",
       "      <th>75%</th>\n",
       "      <td>4.574</td>\n",
       "      <td>4.876</td>\n",
       "      <td>4.897</td>\n",
       "      <td>4.675</td>\n",
       "      <td>4.800</td>\n",
       "      <td>4.834</td>\n",
       "      <td>4.771</td>\n",
       "      <td>4.935</td>\n",
       "      <td>5.023</td>\n",
       "      <td>5.145</td>\n",
       "    </tr>\n",
       "    <tr>\n",
       "      <th>max</th>\n",
       "      <td>53.412</td>\n",
       "      <td>59.624</td>\n",
       "      <td>52.628</td>\n",
       "      <td>43.557</td>\n",
       "      <td>40.981</td>\n",
       "      <td>40.228</td>\n",
       "      <td>39.452</td>\n",
       "      <td>43.527</td>\n",
       "      <td>40.771</td>\n",
       "      <td>40.697</td>\n",
       "    </tr>\n",
       "  </tbody>\n",
       "</table>\n",
       "</div>"
      ],
      "text/plain": [
       "                P8           P4          CP2          CP6           T8  \\\n",
       "count  1536000.000  1536000.000  1536000.000  1536000.000  1536000.000   \n",
       "mean        -0.002       -0.012       -0.013       -0.015       -0.012   \n",
       "std          7.014        7.503        7.550        7.159        7.339   \n",
       "min        -44.366      -55.229      -52.448      -40.082      -40.586   \n",
       "25%         -4.607       -4.915       -4.936       -4.719       -4.827   \n",
       "50%         -0.029       -0.029       -0.030       -0.028       -0.008   \n",
       "75%          4.574        4.876        4.897        4.675        4.800   \n",
       "max         53.412       59.624       52.628       43.557       40.981   \n",
       "\n",
       "              FT10          FC6           C4          FC2           F4  \n",
       "count  1536000.000  1536000.000  1536000.000  1536000.000  1536000.000  \n",
       "mean        -0.017       -0.020       -0.024       -0.028       -0.025  \n",
       "std          7.372        7.354        7.600        7.732        7.939  \n",
       "min        -41.083      -40.883      -41.263      -41.750      -41.285  \n",
       "25%         -4.863       -4.822       -5.003       -5.098       -5.227  \n",
       "50%         -0.021       -0.033       -0.044       -0.059       -0.068  \n",
       "75%          4.834        4.771        4.935        5.023        5.145  \n",
       "max         40.228       39.452       43.527       40.771       40.697  "
      ]
     },
     "execution_count": 9,
     "metadata": {},
     "output_type": "execute_result"
    }
   ],
   "source": [
    "df[df.columns[20:30]].describe().apply(lambda s: s.apply('{0:.3f}'.format))"
   ]
  },
  {
   "cell_type": "code",
   "execution_count": 10,
   "id": "e39d8578",
   "metadata": {},
   "outputs": [
    {
     "data": {
      "text/html": [
       "<div>\n",
       "<style scoped>\n",
       "    .dataframe tbody tr th:only-of-type {\n",
       "        vertical-align: middle;\n",
       "    }\n",
       "\n",
       "    .dataframe tbody tr th {\n",
       "        vertical-align: top;\n",
       "    }\n",
       "\n",
       "    .dataframe thead th {\n",
       "        text-align: right;\n",
       "    }\n",
       "</style>\n",
       "<table border=\"1\" class=\"dataframe\">\n",
       "  <thead>\n",
       "    <tr style=\"text-align: right;\">\n",
       "      <th></th>\n",
       "      <th>F8</th>\n",
       "      <th>Fp2</th>\n",
       "      <th>Scale</th>\n",
       "    </tr>\n",
       "  </thead>\n",
       "  <tbody>\n",
       "    <tr>\n",
       "      <th>count</th>\n",
       "      <td>1536000.000</td>\n",
       "      <td>1536000.000</td>\n",
       "      <td>1536000.000</td>\n",
       "    </tr>\n",
       "    <tr>\n",
       "      <th>mean</th>\n",
       "      <td>-0.020</td>\n",
       "      <td>-0.027</td>\n",
       "      <td>3.608</td>\n",
       "    </tr>\n",
       "    <tr>\n",
       "      <th>std</th>\n",
       "      <td>8.782</td>\n",
       "      <td>11.102</td>\n",
       "      <td>2.718</td>\n",
       "    </tr>\n",
       "    <tr>\n",
       "      <th>min</th>\n",
       "      <td>-44.351</td>\n",
       "      <td>-66.440</td>\n",
       "      <td>0.000</td>\n",
       "    </tr>\n",
       "    <tr>\n",
       "      <th>25%</th>\n",
       "      <td>-5.755</td>\n",
       "      <td>-7.235</td>\n",
       "      <td>0.750</td>\n",
       "    </tr>\n",
       "    <tr>\n",
       "      <th>50%</th>\n",
       "      <td>-0.088</td>\n",
       "      <td>-0.175</td>\n",
       "      <td>4.000</td>\n",
       "    </tr>\n",
       "    <tr>\n",
       "      <th>75%</th>\n",
       "      <td>5.644</td>\n",
       "      <td>6.954</td>\n",
       "      <td>6.000</td>\n",
       "    </tr>\n",
       "    <tr>\n",
       "      <th>max</th>\n",
       "      <td>51.631</td>\n",
       "      <td>80.273</td>\n",
       "      <td>10.000</td>\n",
       "    </tr>\n",
       "  </tbody>\n",
       "</table>\n",
       "</div>"
      ],
      "text/plain": [
       "                F8          Fp2        Scale\n",
       "count  1536000.000  1536000.000  1536000.000\n",
       "mean        -0.020       -0.027        3.608\n",
       "std          8.782       11.102        2.718\n",
       "min        -44.351      -66.440        0.000\n",
       "25%         -5.755       -7.235        0.750\n",
       "50%         -0.088       -0.175        4.000\n",
       "75%          5.644        6.954        6.000\n",
       "max         51.631       80.273       10.000"
      ]
     },
     "execution_count": 10,
     "metadata": {},
     "output_type": "execute_result"
    }
   ],
   "source": [
    "df[df.columns[30:33]].describe().apply(lambda s: s.apply('{0:.3f}'.format))"
   ]
  },
  {
   "cell_type": "markdown",
   "id": "e95c5507",
   "metadata": {},
   "source": [
    "#### Check for missing data.\n",
    "- No missing data, eliminating the need to perform some data imputation."
   ]
  },
  {
   "cell_type": "code",
   "execution_count": 11,
   "id": "7454f96c",
   "metadata": {},
   "outputs": [
    {
     "name": "stdout",
     "output_type": "stream",
     "text": [
      "<class 'pandas.core.frame.DataFrame'>\n",
      "RangeIndex: 1536000 entries, 0 to 1535999\n",
      "Data columns (total 33 columns):\n",
      " #   Column  Non-Null Count    Dtype  \n",
      "---  ------  --------------    -----  \n",
      " 0   CZ      1536000 non-null  float64\n",
      " 1   FZ      1536000 non-null  float64\n",
      " 2   Fp1     1536000 non-null  float64\n",
      " 3   F7      1536000 non-null  float64\n",
      " 4   F3      1536000 non-null  float64\n",
      " 5   FC1     1536000 non-null  float64\n",
      " 6   C3      1536000 non-null  float64\n",
      " 7   FC5     1536000 non-null  float64\n",
      " 8   FT9     1536000 non-null  float64\n",
      " 9   T7      1536000 non-null  float64\n",
      " 10  CP5     1536000 non-null  float64\n",
      " 11  CP1     1536000 non-null  float64\n",
      " 12  P3      1536000 non-null  float64\n",
      " 13  P7      1536000 non-null  float64\n",
      " 14  PO9     1536000 non-null  float64\n",
      " 15  O1      1536000 non-null  float64\n",
      " 16  PZ      1536000 non-null  float64\n",
      " 17  OZ      1536000 non-null  float64\n",
      " 18  O2      1536000 non-null  float64\n",
      " 19  PO10    1536000 non-null  float64\n",
      " 20  P8      1536000 non-null  float64\n",
      " 21  P4      1536000 non-null  float64\n",
      " 22  CP2     1536000 non-null  float64\n",
      " 23  CP6     1536000 non-null  float64\n",
      " 24  T8      1536000 non-null  float64\n",
      " 25  FT10    1536000 non-null  float64\n",
      " 26  FC6     1536000 non-null  float64\n",
      " 27  C4      1536000 non-null  float64\n",
      " 28  FC2     1536000 non-null  float64\n",
      " 29  F4      1536000 non-null  float64\n",
      " 30  F8      1536000 non-null  float64\n",
      " 31  Fp2     1536000 non-null  float64\n",
      " 32  Scale   1536000 non-null  int64  \n",
      "dtypes: float64(32), int64(1)\n",
      "memory usage: 386.7 MB\n"
     ]
    }
   ],
   "source": [
    "df.info()"
   ]
  },
  {
   "cell_type": "markdown",
   "id": "34fa78d0",
   "metadata": {},
   "source": [
    "#### Check for cells with zero values in features.\n",
    "- There are no features with zero values. Only the label (Scale) has the value zero; which is valid since zero is one of the valid dataset classes."
   ]
  },
  {
   "cell_type": "code",
   "execution_count": 12,
   "id": "4ea13cb4",
   "metadata": {},
   "outputs": [
    {
     "data": {
      "text/plain": [
       "CZ            0\n",
       "FZ            0\n",
       "Fp1           0\n",
       "F7            0\n",
       "F3            0\n",
       "FC1           0\n",
       "C3            0\n",
       "FC5           0\n",
       "FT9           0\n",
       "T7            0\n",
       "CP5           0\n",
       "CP1           0\n",
       "P3            0\n",
       "P7            0\n",
       "PO9           0\n",
       "O1            0\n",
       "PZ            0\n",
       "OZ            0\n",
       "O2            0\n",
       "PO10          0\n",
       "P8            0\n",
       "P4            0\n",
       "CP2           0\n",
       "CP6           0\n",
       "T8            0\n",
       "FT10          0\n",
       "FC6           0\n",
       "C4            0\n",
       "FC2           0\n",
       "F4            0\n",
       "F8            0\n",
       "Fp2           0\n",
       "Scale    384000\n",
       "dtype: int64"
      ]
     },
     "execution_count": 12,
     "metadata": {},
     "output_type": "execute_result"
    }
   ],
   "source": [
    "df[df == 0].count()"
   ]
  },
  {
   "cell_type": "markdown",
   "id": "2fe887cc",
   "metadata": {},
   "source": [
    "#### Check for duplicate records in dataset.\n",
    "- No duplicate records found."
   ]
  },
  {
   "cell_type": "code",
   "execution_count": 13,
   "id": "cb9bfd16",
   "metadata": {},
   "outputs": [
    {
     "data": {
      "text/plain": [
       "0"
      ]
     },
     "execution_count": 13,
     "metadata": {},
     "output_type": "execute_result"
    }
   ],
   "source": [
    "len(df[df.drop('Scale', axis = 1).duplicated()])"
   ]
  },
  {
   "cell_type": "markdown",
   "id": "fd5d4177",
   "metadata": {},
   "source": [
    "#### Check if there is correlation (Person) between features."
   ]
  },
  {
   "cell_type": "code",
   "execution_count": 15,
   "id": "bdbb0095",
   "metadata": {},
   "outputs": [
    {
     "data": {
      "image/png": "[encoded data removed]",
      "text/plain": [
       "<Figure size 432x288 with 2 Axes>"
      ]
     },
     "metadata": {
      "needs_background": "light"
     },
     "output_type": "display_data"
    },
    {
     "data": {
      "text/plain": [
       "<Axes: title={'center': 'Pearson Ranking of 32 Features'}>"
      ]
     },
     "execution_count": 15,
     "metadata": {},
     "output_type": "execute_result"
    }
   ],
   "source": [
    "from yellowbrick.features import Rank2D\n",
    "\n",
    "visualizer = Rank2D(algorithm='pearson')\n",
    "X = df.iloc[:, 0:32]\n",
    "y = df['Scale']\n",
    "visualizer.fit(X, y)\n",
    "visualizer.transform(X)\n",
    "visualizer.show()"
   ]
  },
  {
   "cell_type": "markdown",
   "id": "82d2a3ea",
   "metadata": {},
   "source": [
    "#### Display a ranking with the highest correlations found.\n",
    "- There are pairs of features whose correlation is greater than 90%."
   ]
  },
  {
   "cell_type": "code",
   "execution_count": 16,
   "id": "a6129554",
   "metadata": {},
   "outputs": [
    {
     "name": "stdout",
     "output_type": "stream",
     "text": [
      "Top Absolute Correlations\n",
      "P4    CP2     0.9582568853348753\n",
      "C4    FC2     0.9481362522270658\n",
      "Fp1   F7      0.9451930152976984\n",
      "T8    FT10    0.9417169492627482\n",
      "PO10  P8      0.9415793926654294\n",
      "CP1   P3      0.9396787060915365\n",
      "PZ    OZ      0.9376725623357962\n",
      "O1    PZ      0.9366326605190654\n",
      "FC1   C3      0.9342720214584433\n",
      "FC2   F4      0.9195057159963990\n",
      "OZ    O2      0.9177320980227823\n",
      "FC6   C4      0.9131716517548815\n",
      "O2    PO10    0.9127032602851280\n",
      "P8    P4      0.9082915058686857\n",
      "F4    F8      0.9005985789691969\n",
      "FT9   T7      0.8980377518162184\n",
      "PO9   O1      0.8943558512519405\n",
      "CP6   T8      0.8931553933435644\n",
      "P7    PO9     0.8910082119640752\n",
      "F3    FC1     0.8867571257862585\n",
      "CP2   CP6     0.8856240384049422\n",
      "CP5   CP1     0.8847100952131335\n",
      "C3    FC5     0.8770429112400312\n",
      "P4    CP6     0.8764471792054099\n",
      "FT10  FC6     0.8727729263388043\n",
      "O1    OZ      0.8718141842422028\n",
      "CZ    FC2     0.8671468528551529\n",
      "CP2   C4      0.8662100184804645\n",
      "FC6   F4      0.8659196379760347\n",
      "C4    F4      0.8639503496586016\n",
      "dtype: float64\n"
     ]
    }
   ],
   "source": [
    "def get_redundant_pairs(df):\n",
    "    '''Get diagonal and lower triangular pairs of correlation matrix'''\n",
    "    pairs_to_drop = set()\n",
    "    cols = df.columns\n",
    "    for i in range(0, df.shape[1]):\n",
    "        for j in range(0, i+1):\n",
    "            pairs_to_drop.add((cols[i], cols[j]))\n",
    "    return pairs_to_drop\n",
    "\n",
    "def get_top_abs_correlations(df, n=5):\n",
    "    au_corr = df.corr().abs().unstack()\n",
    "    labels_to_drop = get_redundant_pairs(df)\n",
    "    au_corr = au_corr.drop(labels=labels_to_drop).sort_values(ascending=False)\n",
    "    return au_corr[0:n]\n",
    "\n",
    "print(\"Top Absolute Correlations\")\n",
    "print(get_top_abs_correlations(df, 30))"
   ]
  },
  {
   "cell_type": "markdown",
   "id": "ff41c98a",
   "metadata": {},
   "source": [
    "#### Check the correlation between each feature and the target.\n",
    "- The correlation between a given feature and the target will be used as a parameter to define which of the two collinear features should be removed from the dataset."
   ]
  },
  {
   "cell_type": "code",
   "execution_count": 17,
   "id": "4ee75edb",
   "metadata": {},
   "outputs": [
    {
     "data": {
      "text/plain": [
       "Scale    1.0000000000000000\n",
       "FC5      0.0007227858078999\n",
       "P4       0.0006444048662875\n",
       "P3       0.0006190294377671\n",
       "F8       0.0006002003145604\n",
       "CP2      0.0005981017594366\n",
       "O2       0.0005669580943079\n",
       "CP6      0.0005156646699554\n",
       "F4       0.0004642839029221\n",
       "Fp1      0.0004370321942782\n",
       "F7       0.0004355369001609\n",
       "T7       0.0003919391292460\n",
       "PZ       0.0003886915700906\n",
       "PO10     0.0003833294303887\n",
       "P7       0.0003670987001153\n",
       "CP1      0.0003248445854434\n",
       "FZ       0.0003067543849856\n",
       "FC1      0.0002936391337312\n",
       "FC6      0.0002890952772171\n",
       "C4       0.0002794779216999\n",
       "FT9      0.0002568818026348\n",
       "P8       0.0002412199628696\n",
       "CP5      0.0002325526389445\n",
       "OZ       0.0002261779052475\n",
       "PO9      0.0002240030656644\n",
       "Fp2      0.0001502905940319\n",
       "F3       0.0001228105155962\n",
       "C3       0.0001168606577600\n",
       "FT10     0.0000912674510190\n",
       "CZ       0.0000851038039206\n",
       "T8       0.0000374705888634\n",
       "FC2      0.0000103835061623\n",
       "O1       0.0000061295049996\n",
       "dtype: float64"
      ]
     },
     "execution_count": 17,
     "metadata": {},
     "output_type": "execute_result"
    }
   ],
   "source": [
    "df.corrwith(df[\"Scale\"]).abs().sort_values(ascending=False)"
   ]
  },
  {
   "cell_type": "markdown",
   "id": "f9175b0d",
   "metadata": {},
   "source": [
    "#### Remove features that have a correlation greater than 90% with other features."
   ]
  },
  {
   "cell_type": "code",
   "execution_count": 18,
   "id": "0e960c2c",
   "metadata": {},
   "outputs": [
    {
     "name": "stdout",
     "output_type": "stream",
     "text": [
      "Top Absolute Correlations\n",
      "FT9   T7     0.8980377518162184\n",
      "P7    PO9    0.8910082119640752\n",
      "F3    FC1    0.8867571257862585\n",
      "P4    CP6    0.8764471792054099\n",
      "FT10  FC6    0.8727729263388043\n",
      "P3    P7     0.8610018246602354\n",
      "FZ    Fp1    0.8588379771787776\n",
      "CP5   P3     0.8573435576947949\n",
      "CZ    FC1    0.8529866929673017\n",
      "FC6   F8     0.8421592124311108\n",
      "dtype: float64\n"
     ]
    }
   ],
   "source": [
    "print(\"Top Absolute Correlations\")\n",
    "dropped_df = df.drop(['CP2', 'FC2', 'F7', 'T8', 'P8', 'CP1',\n",
    "                      'OZ', 'O1', 'C3', 'C4', 'PO10', 'F4'],\n",
    "                     axis=1, inplace=False)\n",
    "print(get_top_abs_correlations(dropped_df, 10))"
   ]
  },
  {
   "cell_type": "markdown",
   "id": "4566eb92",
   "metadata": {},
   "source": [
    "#### Display the new dataset configuration after removing features with high correlation."
   ]
  },
  {
   "cell_type": "code",
   "execution_count": 19,
   "id": "90cc0594",
   "metadata": {},
   "outputs": [
    {
     "data": {
      "text/plain": [
       "CZ       float64\n",
       "FZ       float64\n",
       "Fp1      float64\n",
       "F3       float64\n",
       "FC1      float64\n",
       "FC5      float64\n",
       "FT9      float64\n",
       "T7       float64\n",
       "CP5      float64\n",
       "P3       float64\n",
       "P7       float64\n",
       "PO9      float64\n",
       "PZ       float64\n",
       "O2       float64\n",
       "P4       float64\n",
       "CP6      float64\n",
       "FT10     float64\n",
       "FC6      float64\n",
       "F8       float64\n",
       "Fp2      float64\n",
       "Scale      int64\n",
       "dtype: object"
      ]
     },
     "execution_count": 19,
     "metadata": {},
     "output_type": "execute_result"
    }
   ],
   "source": [
    "dropped_df.dtypes"
   ]
  },
  {
   "cell_type": "markdown",
   "id": "a9e70fb6",
   "metadata": {},
   "source": [
    "#### Generate the histogram of each feature to check how the distribution is.\n",
    "- All features have normal distribution."
   ]
  },
  {
   "cell_type": "code",
   "execution_count": 21,
   "id": "611de93f",
   "metadata": {},
   "outputs": [],
   "source": [
    "from matplotlib import pyplot as plt\n",
    "import seaborn as sns"
   ]
  },
  {
   "cell_type": "code",
   "execution_count": 22,
   "id": "d3a1751e",
   "metadata": {},
   "outputs": [
    {
     "data": {
      "text/plain": [
       "<seaborn.axisgrid.FacetGrid at 0x1df33aa3c10>"
      ]
     },
     "execution_count": 22,
     "metadata": {},
     "output_type": "execute_result"
    },
    {
     "data": {
      "image/png": "[encoded data removed]",
      "text/plain": [
       "<Figure size 360x360 with 1 Axes>"
      ]
     },
     "metadata": {
      "needs_background": "light"
     },
     "output_type": "display_data"
    }
   ],
   "source": [
    "sns.displot(dropped_df['CZ'])"
   ]
  },
  {
   "cell_type": "code",
   "execution_count": 23,
   "id": "eee5290f",
   "metadata": {},
   "outputs": [
    {
     "data": {
      "text/plain": [
       "<seaborn.axisgrid.FacetGrid at 0x1df33af1640>"
      ]
     },
     "execution_count": 23,
     "metadata": {},
     "output_type": "execute_result"
    },
    {
     "data": {
      "image/png": "[encoded data removed]",
      "text/plain": [
       "<Figure size 360x360 with 1 Axes>"
      ]
     },
     "metadata": {
      "needs_background": "light"
     },
     "output_type": "display_data"
    }
   ],
   "source": [
    "sns.displot(dropped_df['FZ'])"
   ]
  },
  {
   "cell_type": "code",
   "execution_count": 24,
   "id": "daaa7e98",
   "metadata": {},
   "outputs": [
    {
     "data": {
      "text/plain": [
       "<seaborn.axisgrid.FacetGrid at 0x1df33af10d0>"
      ]
     },
     "execution_count": 24,
     "metadata": {},
     "output_type": "execute_result"
    },
    {
     "data": {
      "image/png": "[encoded data removed]",
      "text/plain": [
       "<Figure size 360x360 with 1 Axes>"
      ]
     },
     "metadata": {
      "needs_background": "light"
     },
     "output_type": "display_data"
    }
   ],
   "source": [
    "sns.displot(dropped_df['Fp1'])"
   ]
  },
  {
   "cell_type": "code",
   "execution_count": 25,
   "id": "459d568f",
   "metadata": {},
   "outputs": [
    {
     "data": {
      "text/plain": [
       "<seaborn.axisgrid.FacetGrid at 0x1df42da1c10>"
      ]
     },
     "execution_count": 25,
     "metadata": {},
     "output_type": "execute_result"
    },
    {
     "data": {
      "image/png": "[encoded data removed]",
      "text/plain": [
       "<Figure size 360x360 with 1 Axes>"
      ]
     },
     "metadata": {
      "needs_background": "light"
     },
     "output_type": "display_data"
    }
   ],
   "source": [
    "sns.displot(dropped_df['F3'])"
   ]
  },
  {
   "cell_type": "code",
   "execution_count": 26,
   "id": "3cc4c028",
   "metadata": {},
   "outputs": [
    {
     "data": {
      "text/plain": [
       "<seaborn.axisgrid.FacetGrid at 0x1df349b8760>"
      ]
     },
     "execution_count": 26,
     "metadata": {},
     "output_type": "execute_result"
    },
    {
     "data": {
      "image/png": "[encoded data removed]",
      "text/plain": [
       "<Figure size 360x360 with 1 Axes>"
      ]
     },
     "metadata": {
      "needs_background": "light"
     },
     "output_type": "display_data"
    }
   ],
   "source": [
    "sns.displot(dropped_df['FC1'])"
   ]
  },
  {
   "cell_type": "code",
   "execution_count": 27,
   "id": "0a76ca71",
   "metadata": {},
   "outputs": [
    {
     "data": {
      "text/plain": [
       "<seaborn.axisgrid.FacetGrid at 0x1df43d54760>"
      ]
     },
     "execution_count": 27,
     "metadata": {},
     "output_type": "execute_result"
    },
    {
     "data": {
      "image/png": "[encoded data removed]",
      "text/plain": [
       "<Figure size 360x360 with 1 Axes>"
      ]
     },
     "metadata": {
      "needs_background": "light"
     },
     "output_type": "display_data"
    }
   ],
   "source": [
    "sns.displot(dropped_df['FC5'])"
   ]
  },
  {
   "cell_type": "code",
   "execution_count": 28,
   "id": "4b032403",
   "metadata": {},
   "outputs": [
    {
     "data": {
      "text/plain": [
       "<seaborn.axisgrid.FacetGrid at 0x1df375dd0a0>"
      ]
     },
     "execution_count": 28,
     "metadata": {},
     "output_type": "execute_result"
    },
    {
     "data": {
      "image/png": "[encoded data removed]",
      "text/plain": [
       "<Figure size 360x360 with 1 Axes>"
      ]
     },
     "metadata": {
      "needs_background": "light"
     },
     "output_type": "display_data"
    }
   ],
   "source": [
    "sns.displot(dropped_df['FT9'])"
   ]
  },
  {
   "cell_type": "code",
   "execution_count": 29,
   "id": "18ad301c",
   "metadata": {},
   "outputs": [
    {
     "data": {
      "text/plain": [
       "<seaborn.axisgrid.FacetGrid at 0x1df7365cbe0>"
      ]
     },
     "execution_count": 29,
     "metadata": {},
     "output_type": "execute_result"
    },
    {
     "data": {
      "image/png": "[encoded data removed]",
      "text/plain": [
       "<Figure size 360x360 with 1 Axes>"
      ]
     },
     "metadata": {
      "needs_background": "light"
     },
     "output_type": "display_data"
    }
   ],
   "source": [
    "sns.displot(dropped_df['T7'])"
   ]
  },
  {
   "cell_type": "code",
   "execution_count": 30,
   "id": "7817d91e",
   "metadata": {},
   "outputs": [
    {
     "data": {
      "text/plain": [
       "<seaborn.axisgrid.FacetGrid at 0x1df46848520>"
      ]
     },
     "execution_count": 30,
     "metadata": {},
     "output_type": "execute_result"
    },
    {
     "data": {
      "image/png": "[encoded data removed]",
      "text/plain": [
       "<Figure size 360x360 with 1 Axes>"
      ]
     },
     "metadata": {
      "needs_background": "light"
     },
     "output_type": "display_data"
    }
   ],
   "source": [
    "sns.displot(dropped_df['CP5'])"
   ]
  },
  {
   "cell_type": "code",
   "execution_count": 31,
   "id": "0284c22e",
   "metadata": {},
   "outputs": [
    {
     "data": {
      "text/plain": [
       "<seaborn.axisgrid.FacetGrid at 0x1df375dd430>"
      ]
     },
     "execution_count": 31,
     "metadata": {},
     "output_type": "execute_result"
    },
    {
     "data": {
      "image/png": "[encoded data removed]",
      "text/plain": [
       "<Figure size 360x360 with 1 Axes>"
      ]
     },
     "metadata": {
      "needs_background": "light"
     },
     "output_type": "display_data"
    }
   ],
   "source": [
    "sns.displot(dropped_df['P3'])"
   ]
  },
  {
   "cell_type": "code",
   "execution_count": 32,
   "id": "24310d59",
   "metadata": {},
   "outputs": [
    {
     "data": {
      "text/plain": [
       "<seaborn.axisgrid.FacetGrid at 0x1df3b5ba7c0>"
      ]
     },
     "execution_count": 32,
     "metadata": {},
     "output_type": "execute_result"
    },
    {
     "data": {
      "image/png": "[encoded data removed]",
      "text/plain": [
       "<Figure size 360x360 with 1 Axes>"
      ]
     },
     "metadata": {
      "needs_background": "light"
     },
     "output_type": "display_data"
    }
   ],
   "source": [
    "sns.displot(dropped_df['P7'])"
   ]
  },
  {
   "cell_type": "code",
   "execution_count": 33,
   "id": "6195b5be",
   "metadata": {},
   "outputs": [
    {
     "data": {
      "text/plain": [
       "<seaborn.axisgrid.FacetGrid at 0x1df3b6e1eb0>"
      ]
     },
     "execution_count": 33,
     "metadata": {},
     "output_type": "execute_result"
    },
    {
     "data": {
      "image/png": "[encoded data removed]",
      "text/plain": [
       "<Figure size 360x360 with 1 Axes>"
      ]
     },
     "metadata": {
      "needs_background": "light"
     },
     "output_type": "display_data"
    }
   ],
   "source": [
    "sns.displot(dropped_df['PO9'])"
   ]
  },
  {
   "cell_type": "code",
   "execution_count": 34,
   "id": "72c09c45",
   "metadata": {},
   "outputs": [
    {
     "data": {
      "text/plain": [
       "<seaborn.axisgrid.FacetGrid at 0x1df3b75e640>"
      ]
     },
     "execution_count": 34,
     "metadata": {},
     "output_type": "execute_result"
    },
    {
     "data": {
      "image/png": "[encoded data removed]",
      "text/plain": [
       "<Figure size 360x360 with 1 Axes>"
      ]
     },
     "metadata": {
      "needs_background": "light"
     },
     "output_type": "display_data"
    }
   ],
   "source": [
    "sns.displot(dropped_df['PZ'])"
   ]
  },
  {
   "cell_type": "code",
   "execution_count": 35,
   "id": "6814b092",
   "metadata": {},
   "outputs": [
    {
     "data": {
      "text/plain": [
       "<seaborn.axisgrid.FacetGrid at 0x1df44b6e580>"
      ]
     },
     "execution_count": 35,
     "metadata": {},
     "output_type": "execute_result"
    },
    {
     "data": {
      "image/png": "[encoded data removed]",
      "text/plain": [
       "<Figure size 360x360 with 1 Axes>"
      ]
     },
     "metadata": {
      "needs_background": "light"
     },
     "output_type": "display_data"
    }
   ],
   "source": [
    "sns.displot(dropped_df['O2'])"
   ]
  },
  {
   "cell_type": "code",
   "execution_count": 36,
   "id": "3d01d6f0",
   "metadata": {},
   "outputs": [
    {
     "data": {
      "text/plain": [
       "<seaborn.axisgrid.FacetGrid at 0x1df7c908a90>"
      ]
     },
     "execution_count": 36,
     "metadata": {},
     "output_type": "execute_result"
    },
    {
     "data": {
      "image/png": "[encoded data removed]",
      "text/plain": [
       "<Figure size 360x360 with 1 Axes>"
      ]
     },
     "metadata": {
      "needs_background": "light"
     },
     "output_type": "display_data"
    }
   ],
   "source": [
    "sns.displot(dropped_df['P4'])"
   ]
  },
  {
   "cell_type": "code",
   "execution_count": 37,
   "id": "b7f0cc27",
   "metadata": {},
   "outputs": [
    {
     "data": {
      "text/plain": [
       "<seaborn.axisgrid.FacetGrid at 0x1df7c904ca0>"
      ]
     },
     "execution_count": 37,
     "metadata": {},
     "output_type": "execute_result"
    },
    {
     "data": {
      "image/png": "[encoded data removed]",
      "text/plain": [
       "<Figure size 360x360 with 1 Axes>"
      ]
     },
     "metadata": {
      "needs_background": "light"
     },
     "output_type": "display_data"
    }
   ],
   "source": [
    "sns.displot(dropped_df['CP6'])"
   ]
  },
  {
   "cell_type": "code",
   "execution_count": 38,
   "id": "43b0bf39",
   "metadata": {},
   "outputs": [
    {
     "data": {
      "text/plain": [
       "<seaborn.axisgrid.FacetGrid at 0x1df44b6e820>"
      ]
     },
     "execution_count": 38,
     "metadata": {},
     "output_type": "execute_result"
    },
    {
     "data": {
      "image/png": "[encoded data removed]",
      "text/plain": [
       "<Figure size 360x360 with 1 Axes>"
      ]
     },
     "metadata": {
      "needs_background": "light"
     },
     "output_type": "display_data"
    }
   ],
   "source": [
    "sns.displot(dropped_df['FT10'])"
   ]
  },
  {
   "cell_type": "code",
   "execution_count": 39,
   "id": "303ff460",
   "metadata": {},
   "outputs": [
    {
     "data": {
      "text/plain": [
       "<seaborn.axisgrid.FacetGrid at 0x1df6ffaab80>"
      ]
     },
     "execution_count": 39,
     "metadata": {},
     "output_type": "execute_result"
    },
    {
     "data": {
      "image/png": "[encoded data removed]",
      "text/plain": [
       "<Figure size 360x360 with 1 Axes>"
      ]
     },
     "metadata": {
      "needs_background": "light"
     },
     "output_type": "display_data"
    }
   ],
   "source": [
    "sns.displot(dropped_df['FC6'])"
   ]
  },
  {
   "cell_type": "code",
   "execution_count": 40,
   "id": "5ab90971",
   "metadata": {},
   "outputs": [
    {
     "data": {
      "text/plain": [
       "<seaborn.axisgrid.FacetGrid at 0x1df451afd30>"
      ]
     },
     "execution_count": 40,
     "metadata": {},
     "output_type": "execute_result"
    },
    {
     "data": {
      "image/png": "[encoded data removed]",
      "text/plain": [
       "<Figure size 360x360 with 1 Axes>"
      ]
     },
     "metadata": {
      "needs_background": "light"
     },
     "output_type": "display_data"
    }
   ],
   "source": [
    "sns.displot(dropped_df['F8'])"
   ]
  },
  {
   "cell_type": "code",
   "execution_count": 41,
   "id": "d7d8d4df",
   "metadata": {},
   "outputs": [
    {
     "data": {
      "text/plain": [
       "<seaborn.axisgrid.FacetGrid at 0x1df73538c40>"
      ]
     },
     "execution_count": 41,
     "metadata": {},
     "output_type": "execute_result"
    },
    {
     "data": {
      "image/png": "[encoded data removed]",
      "text/plain": [
       "<Figure size 360x360 with 1 Axes>"
      ]
     },
     "metadata": {
      "needs_background": "light"
     },
     "output_type": "display_data"
    }
   ],
   "source": [
    "sns.displot(dropped_df['Fp2'])"
   ]
  },
  {
   "cell_type": "code",
   "execution_count": 42,
   "id": "94a47bb2",
   "metadata": {},
   "outputs": [
    {
     "data": {
      "text/plain": [
       "<seaborn.axisgrid.FacetGrid at 0x1df6f06c2b0>"
      ]
     },
     "execution_count": 42,
     "metadata": {},
     "output_type": "execute_result"
    },
    {
     "data": {
      "image/png": "[encoded data removed]",
      "text/plain": [
       "<Figure size 360x360 with 1 Axes>"
      ]
     },
     "metadata": {
      "needs_background": "light"
     },
     "output_type": "display_data"
    }
   ],
   "source": [
    "sns.displot(dropped_df['Scale'])"
   ]
  },
  {
   "cell_type": "markdown",
   "id": "92697fef",
   "metadata": {},
   "source": [
    "#### Check the Skewness of features."
   ]
  },
  {
   "cell_type": "code",
   "execution_count": 43,
   "id": "80ee1f40",
   "metadata": {},
   "outputs": [
    {
     "name": "stdout",
     "output_type": "stream",
     "text": [
      "Skewness for CZ is 0.009967941128307147\n",
      "Skewness for FZ is 0.056512016158595496\n",
      "Skewness for Fp1 is 0.11141121449717507\n",
      "Skewness for F3 is 0.03896379818801327\n",
      "Skewness for FC1 is 0.026457641526949394\n",
      "Skewness for FC5 is 0.018738207454606845\n",
      "Skewness for FT9 is 0.025871422863592817\n",
      "Skewness for T7 is 0.027312082908969325\n",
      "Skewness for CP5 is 0.024914868579233036\n",
      "Skewness for P3 is 0.013926766217157051\n",
      "Skewness for P7 is 0.034340703142433426\n",
      "Skewness for PO9 is 0.05628924800971814\n",
      "Skewness for PZ is 0.007785038209869778\n",
      "Skewness for O2 is 0.032723459387694026\n",
      "Skewness for P4 is 0.007475879374103781\n",
      "Skewness for CP6 is 0.009974013465253128\n",
      "Skewness for FT10 is -0.00807527284951268\n",
      "Skewness for FC6 is 0.0027171854584234017\n",
      "Skewness for F8 is 0.04972021008555459\n",
      "Skewness for Fp2 is 0.1331740486196508\n",
      "Skewness for Scale is 0.0821433405019101\n"
     ]
    }
   ],
   "source": [
    "for i in dropped_df.columns :\n",
    "    print(\"Skewness for {} is {}\".format(i, df[i].astype(float).skew()))"
   ]
  },
  {
   "cell_type": "markdown",
   "id": "7bfc654a",
   "metadata": {},
   "source": [
    "#### Check the Kurtosis of the features."
   ]
  },
  {
   "cell_type": "code",
   "execution_count": 44,
   "id": "5df4480f",
   "metadata": {},
   "outputs": [
    {
     "name": "stdout",
     "output_type": "stream",
     "text": [
      "Kurtosis for CZ is 0.2492342534367542\n",
      "Kurtosis for FZ is 0.28175460973079547\n",
      "Kurtosis for Fp1 is 0.5258879026251977\n",
      "Kurtosis for F3 is 0.4117769048443778\n",
      "Kurtosis for FC1 is 0.3166465648192296\n",
      "Kurtosis for FC5 is 0.4357826227689272\n",
      "Kurtosis for FT9 is 0.5353543361940623\n",
      "Kurtosis for T7 is 0.5051153753431157\n",
      "Kurtosis for CP5 is 0.29376070084997874\n",
      "Kurtosis for P3 is 0.3559973127636087\n",
      "Kurtosis for P7 is 0.3354733328993067\n",
      "Kurtosis for PO9 is 0.4181269591176089\n",
      "Kurtosis for PZ is 0.6399223404722565\n",
      "Kurtosis for O2 is 0.38375795749603814\n",
      "Kurtosis for P4 is 0.5393290842043696\n",
      "Kurtosis for CP6 is 0.3027241982302278\n",
      "Kurtosis for FT10 is 0.26440207337848554\n",
      "Kurtosis for FC6 is 0.3522451410665708\n",
      "Kurtosis for F8 is 0.35426824723996564\n",
      "Kurtosis for Fp2 is 0.5815956947619378\n",
      "Kurtosis for Scale is -1.0214446561987405\n"
     ]
    }
   ],
   "source": [
    "for i in dropped_df.columns :\n",
    "    print(\"Kurtosis for {} is {}\".format(i, df[i].astype(float).kurt()))"
   ]
  },
  {
   "cell_type": "markdown",
   "id": "619eb79b",
   "metadata": {},
   "source": [
    "#### Generate target histogram to check class distribution."
   ]
  },
  {
   "cell_type": "code",
   "execution_count": 45,
   "id": "25e08067",
   "metadata": {},
   "outputs": [
    {
     "data": {
      "text/plain": [
       "<seaborn.axisgrid.FacetGrid at 0x1df7354b100>"
      ]
     },
     "execution_count": 45,
     "metadata": {},
     "output_type": "execute_result"
    },
    {
     "data": {
      "image/png": "[encoded data removed]",
      "text/plain": [
       "<Figure size 360x360 with 1 Axes>"
      ]
     },
     "metadata": {
      "needs_background": "light"
     },
     "output_type": "display_data"
    }
   ],
   "source": [
    "sns.displot(dropped_df['Scale'])"
   ]
  },
  {
   "cell_type": "markdown",
   "id": "e7832a9b",
   "metadata": {},
   "source": [
    "#### Check how the classes are balanced.\n",
    "- The dataset is very unbalanced."
   ]
  },
  {
   "cell_type": "code",
   "execution_count": 46,
   "id": "951270c8",
   "metadata": {},
   "outputs": [
    {
     "name": "stdout",
     "output_type": "stream",
     "text": [
      "Class =  0   Qty = 384000   Percentage = 25.00 %\n",
      "Class =  5   Qty = 246400   Percentage = 16.04 %\n",
      "Class =  3   Qty = 185600   Percentage = 12.08 %\n",
      "Class =  6   Qty = 182400   Percentage = 11.88 %\n",
      "Class =  4   Qty = 172800   Percentage = 11.25 %\n",
      "Class =  7   Qty = 102400   Percentage = 6.67 %\n",
      "Class =  2   Qty =  80000   Percentage = 5.21 %\n",
      "Class =  8   Qty =  76800   Percentage = 5.00 %\n",
      "Class =  1   Qty =  60800   Percentage = 3.96 %\n",
      "Class =  9   Qty =  32000   Percentage = 2.08 %\n",
      "Class = 10   Qty =  12800   Percentage = 0.83 %\n"
     ]
    }
   ],
   "source": [
    "instances_count = dropped_df['Scale'].value_counts().sum()\n",
    "class_distribution = dropped_df['Scale'].value_counts().to_dict()\n",
    "for key, value in class_distribution.items() :\n",
    "    print(f\"Class = {key:2.0f}   Qty = {value:6.0f}   Percentage = {(value/instances_count*100):.2f} %\")"
   ]
  },
  {
   "cell_type": "markdown",
   "id": "150c02eb",
   "metadata": {},
   "source": [
    "#### Apply downsampling to balance the dataset.\n",
    "- The classes had their number of samples reduced to the number of samples of the minority class."
   ]
  },
  {
   "cell_type": "code",
   "execution_count": 48,
   "id": "9e5407cd",
   "metadata": {},
   "outputs": [
    {
     "name": "stdout",
     "output_type": "stream",
     "text": [
      "0     12800\n",
      "1     12800\n",
      "2     12800\n",
      "3     12800\n",
      "4     12800\n",
      "5     12800\n",
      "6     12800\n",
      "7     12800\n",
      "8     12800\n",
      "9     12800\n",
      "10    12800\n",
      "Name: Scale, dtype: int64\n"
     ]
    }
   ],
   "source": [
    "from imblearn.under_sampling import RandomUnderSampler\n",
    "\n",
    "rus = RandomUnderSampler(random_state = 42)\n",
    "X = dropped_df.iloc[:, 0:20]\n",
    "y = dropped_df.iloc[:, 20:21]\n",
    "X_resampled, y_resampled = rus.fit_resample(X, y)\n",
    "print(y_resampled['Scale'].value_counts())"
   ]
  },
  {
   "cell_type": "markdown",
   "id": "1d4c84b8",
   "metadata": {},
   "source": [
    "#### Generate the new dataset after downsampling and display its statistics."
   ]
  },
  {
   "cell_type": "code",
   "execution_count": 49,
   "id": "7f643cdf",
   "metadata": {},
   "outputs": [
    {
     "name": "stdout",
     "output_type": "stream",
     "text": [
      "               CZ          FZ         Fp1          F3         FC1         FC5  \\\n",
      "count  140800.000  140800.000  140800.000  140800.000  140800.000  140800.000   \n",
      "mean       -0.039      -0.040      -0.028      -0.046      -0.062      -0.046   \n",
      "std         7.664       8.481       8.758       6.971       6.945       5.843   \n",
      "min       -37.061     -39.063     -41.901     -33.142     -33.259     -29.048   \n",
      "25%        -5.121      -5.634      -5.767      -4.578      -4.629      -3.852   \n",
      "50%        -0.044      -0.104      -0.129      -0.081      -0.091      -0.057   \n",
      "75%         5.065       5.523       5.592       4.464       4.510       3.774   \n",
      "max        38.590      41.983      52.472      38.223      39.639      28.843   \n",
      "\n",
      "              FT9          T7         CP5          P3          P7         PO9  \\\n",
      "count  140800.000  140800.000  140800.000  140800.000  140800.000  140800.000   \n",
      "mean       -0.043      -0.039      -0.048      -0.041      -0.026      -0.036   \n",
      "std         5.776       5.518       6.000       6.395       5.793       6.412   \n",
      "min       -30.393     -28.329     -29.322     -37.142     -26.621     -30.478   \n",
      "25%        -3.829      -3.677      -4.036      -4.263      -3.838      -4.231   \n",
      "50%        -0.068      -0.071      -0.076      -0.071      -0.081      -0.113   \n",
      "75%         3.723       3.569       3.929       4.150       3.768       4.096   \n",
      "max        31.481      28.258      28.999      29.331      26.680      32.286   \n",
      "\n",
      "               PZ          O2          P4         CP6        FT10         FC6  \\\n",
      "count  140800.000  140800.000  140800.000  140800.000  140800.000  140800.000   \n",
      "mean       -0.040      -0.034      -0.048      -0.034      -0.028      -0.044   \n",
      "std         7.213       7.228       7.403       7.108       7.432       7.342   \n",
      "min       -45.287     -38.053     -47.169     -38.310     -37.136     -38.683   \n",
      "25%        -4.668      -4.755      -4.923      -4.725      -4.917      -4.863   \n",
      "50%        -0.088      -0.090      -0.071      -0.034      -0.027      -0.043   \n",
      "75%         4.578       4.641       4.814       4.651       4.880       4.766   \n",
      "max        35.792      36.625      44.573      35.044      37.927      39.388   \n",
      "\n",
      "               F8         Fp2       Scale  \n",
      "count  140800.000  140800.000  140800.000  \n",
      "mean       -0.057      -0.053       5.000  \n",
      "std         8.874      11.085       3.162  \n",
      "min       -40.742     -61.009       0.000  \n",
      "25%        -5.878      -7.230       2.000  \n",
      "50%        -0.136      -0.209       5.000  \n",
      "75%         5.702       6.936       8.000  \n",
      "max        49.569      61.550      10.000  \n"
     ]
    }
   ],
   "source": [
    "import numpy as np\n",
    "\n",
    "new_df = pd.DataFrame(data = X_resampled, dtype = np.float64, \n",
    "                    columns = ['CZ','FZ','Fp1','F3','FC1','FC5','FT9',\n",
    "                               'T7','CP5','P3','P7','PO9','PZ','O2',\n",
    "                               'P4','CP6','FT10','FC6','F8','Fp2'])\n",
    "new_df['Scale'] = y_resampled\n",
    "print(new_df.describe().apply(lambda s: s.apply('{0:.3f}'.format)))"
   ]
  },
  {
   "cell_type": "markdown",
   "id": "f2805642",
   "metadata": {},
   "source": [
    "#### Generate the features histogram again to check if the distribution continues with the same feature."
   ]
  },
  {
   "cell_type": "code",
   "execution_count": 50,
   "id": "d4915791",
   "metadata": {},
   "outputs": [
    {
     "data": {
      "text/plain": [
       "<seaborn.axisgrid.FacetGrid at 0x1df734e2df0>"
      ]
     },
     "execution_count": 50,
     "metadata": {},
     "output_type": "execute_result"
    },
    {
     "data": {
      "image/png": "[encoded data removed]",
      "text/plain": [
       "<Figure size 360x360 with 1 Axes>"
      ]
     },
     "metadata": {
      "needs_background": "light"
     },
     "output_type": "display_data"
    }
   ],
   "source": [
    "sns.displot(dropped_df['CZ'])"
   ]
  },
  {
   "cell_type": "code",
   "execution_count": 51,
   "id": "8415e288",
   "metadata": {},
   "outputs": [
    {
     "data": {
      "text/plain": [
       "<seaborn.axisgrid.FacetGrid at 0x1df7c666970>"
      ]
     },
     "execution_count": 51,
     "metadata": {},
     "output_type": "execute_result"
    },
    {
     "data": {
      "image/png": "[encoded data removed]",
      "text/plain": [
       "<Figure size 360x360 with 1 Axes>"
      ]
     },
     "metadata": {
      "needs_background": "light"
     },
     "output_type": "display_data"
    }
   ],
   "source": [
    "sns.displot(dropped_df['FZ'])"
   ]
  },
  {
   "cell_type": "code",
   "execution_count": 52,
   "id": "30f6869e",
   "metadata": {},
   "outputs": [
    {
     "data": {
      "text/plain": [
       "<seaborn.axisgrid.FacetGrid at 0x1df751f08b0>"
      ]
     },
     "execution_count": 52,
     "metadata": {},
     "output_type": "execute_result"
    },
    {
     "data": {
      "image/png": "[encoded data removed]",
      "text/plain": [
       "<Figure size 360x360 with 1 Axes>"
      ]
     },
     "metadata": {
      "needs_background": "light"
     },
     "output_type": "display_data"
    }
   ],
   "source": [
    "sns.displot(dropped_df['Fp1'])"
   ]
  },
  {
   "cell_type": "code",
   "execution_count": 53,
   "id": "89d53995",
   "metadata": {},
   "outputs": [
    {
     "data": {
      "text/plain": [
       "<seaborn.axisgrid.FacetGrid at 0x1dfb2af0880>"
      ]
     },
     "execution_count": 53,
     "metadata": {},
     "output_type": "execute_result"
    },
    {
     "data": {
      "image/png": "[encoded data removed]",
      "text/plain": [
       "<Figure size 360x360 with 1 Axes>"
      ]
     },
     "metadata": {
      "needs_background": "light"
     },
     "output_type": "display_data"
    }
   ],
   "source": [
    "sns.displot(dropped_df['F3'])"
   ]
  },
  {
   "cell_type": "code",
   "execution_count": 54,
   "id": "83eda260",
   "metadata": {},
   "outputs": [
    {
     "data": {
      "text/plain": [
       "<seaborn.axisgrid.FacetGrid at 0x1df7ea93e20>"
      ]
     },
     "execution_count": 54,
     "metadata": {},
     "output_type": "execute_result"
    },
    {
     "data": {
      "image/png": "[encoded data removed]",
      "text/plain": [
       "<Figure size 360x360 with 1 Axes>"
      ]
     },
     "metadata": {
      "needs_background": "light"
     },
     "output_type": "display_data"
    }
   ],
   "source": [
    "sns.displot(dropped_df['FC1'])"
   ]
  },
  {
   "cell_type": "code",
   "execution_count": 55,
   "id": "2313cd81",
   "metadata": {},
   "outputs": [
    {
     "data": {
      "text/plain": [
       "<seaborn.axisgrid.FacetGrid at 0x1df8c696760>"
      ]
     },
     "execution_count": 55,
     "metadata": {},
     "output_type": "execute_result"
    },
    {
     "data": {
      "image/png": "[encoded data removed]",
      "text/plain": [
       "<Figure size 360x360 with 1 Axes>"
      ]
     },
     "metadata": {
      "needs_background": "light"
     },
     "output_type": "display_data"
    }
   ],
   "source": [
    "sns.displot(dropped_df['FC5'])"
   ]
  },
  {
   "cell_type": "code",
   "execution_count": 56,
   "id": "b216ab56",
   "metadata": {},
   "outputs": [
    {
     "data": {
      "text/plain": [
       "<seaborn.axisgrid.FacetGrid at 0x1df89195c70>"
      ]
     },
     "execution_count": 56,
     "metadata": {},
     "output_type": "execute_result"
    },
    {
     "data": {
      "image/png": "[encoded data removed]",
      "text/plain": [
       "<Figure size 360x360 with 1 Axes>"
      ]
     },
     "metadata": {
      "needs_background": "light"
     },
     "output_type": "display_data"
    }
   ],
   "source": [
    "sns.displot(dropped_df['FT9'])"
   ]
  },
  {
   "cell_type": "code",
   "execution_count": 57,
   "id": "9731cf50",
   "metadata": {},
   "outputs": [
    {
     "data": {
      "text/plain": [
       "<seaborn.axisgrid.FacetGrid at 0x1df8cd06f70>"
      ]
     },
     "execution_count": 57,
     "metadata": {},
     "output_type": "execute_result"
    },
    {
     "data": {
      "image/png": "[encoded data removed]",
      "text/plain": [
       "<Figure size 360x360 with 1 Axes>"
      ]
     },
     "metadata": {
      "needs_background": "light"
     },
     "output_type": "display_data"
    }
   ],
   "source": [
    "sns.displot(dropped_df['T7'])"
   ]
  },
  {
   "cell_type": "code",
   "execution_count": 58,
   "id": "4d6fc8d9",
   "metadata": {},
   "outputs": [
    {
     "data": {
      "text/plain": [
       "<seaborn.axisgrid.FacetGrid at 0x1df8c69cee0>"
      ]
     },
     "execution_count": 58,
     "metadata": {},
     "output_type": "execute_result"
    },
    {
     "data": {
      "image/png": "[encoded data removed]",
      "text/plain": [
       "<Figure size 360x360 with 1 Axes>"
      ]
     },
     "metadata": {
      "needs_background": "light"
     },
     "output_type": "display_data"
    }
   ],
   "source": [
    "sns.displot(dropped_df['CP5'])"
   ]
  },
  {
   "cell_type": "code",
   "execution_count": 59,
   "id": "40584c3e",
   "metadata": {},
   "outputs": [
    {
     "data": {
      "text/plain": [
       "<seaborn.axisgrid.FacetGrid at 0x1df8ccbcc40>"
      ]
     },
     "execution_count": 59,
     "metadata": {},
     "output_type": "execute_result"
    },
    {
     "data": {
      "image/png": "[encoded data removed]",
      "text/plain": [
       "<Figure size 360x360 with 1 Axes>"
      ]
     },
     "metadata": {
      "needs_background": "light"
     },
     "output_type": "display_data"
    }
   ],
   "source": [
    "sns.displot(dropped_df['P3'])"
   ]
  },
  {
   "cell_type": "code",
   "execution_count": 60,
   "id": "1ad9e110",
   "metadata": {},
   "outputs": [
    {
     "data": {
      "text/plain": [
       "<seaborn.axisgrid.FacetGrid at 0x1df8cd06cd0>"
      ]
     },
     "execution_count": 60,
     "metadata": {},
     "output_type": "execute_result"
    },
    {
     "data": {
      "image/png": "[encoded data removed]",
      "text/plain": [
       "<Figure size 360x360 with 1 Axes>"
      ]
     },
     "metadata": {
      "needs_background": "light"
     },
     "output_type": "display_data"
    }
   ],
   "source": [
    "sns.displot(dropped_df['P7'])"
   ]
  },
  {
   "cell_type": "code",
   "execution_count": 61,
   "id": "edc52206",
   "metadata": {},
   "outputs": [
    {
     "data": {
      "text/plain": [
       "<seaborn.axisgrid.FacetGrid at 0x1df8039d9a0>"
      ]
     },
     "execution_count": 61,
     "metadata": {},
     "output_type": "execute_result"
    },
    {
     "data": {
      "image/png": "[encoded data removed]",
      "text/plain": [
       "<Figure size 360x360 with 1 Axes>"
      ]
     },
     "metadata": {
      "needs_background": "light"
     },
     "output_type": "display_data"
    }
   ],
   "source": [
    "sns.displot(dropped_df['PO9'])"
   ]
  },
  {
   "cell_type": "code",
   "execution_count": 62,
   "id": "f55d0da9",
   "metadata": {},
   "outputs": [
    {
     "data": {
      "text/plain": [
       "<seaborn.axisgrid.FacetGrid at 0x1df962cf070>"
      ]
     },
     "execution_count": 62,
     "metadata": {},
     "output_type": "execute_result"
    },
    {
     "data": {
      "image/png": "[encoded data removed]",
      "text/plain": [
       "<Figure size 360x360 with 1 Axes>"
      ]
     },
     "metadata": {
      "needs_background": "light"
     },
     "output_type": "display_data"
    }
   ],
   "source": [
    "sns.displot(dropped_df['PZ'])"
   ]
  },
  {
   "cell_type": "code",
   "execution_count": 63,
   "id": "4074770b",
   "metadata": {},
   "outputs": [
    {
     "data": {
      "text/plain": [
       "<seaborn.axisgrid.FacetGrid at 0x1dfa0f09f40>"
      ]
     },
     "execution_count": 63,
     "metadata": {},
     "output_type": "execute_result"
    },
    {
     "data": {
      "image/png": "[encoded data removed]",
      "text/plain": [
       "<Figure size 360x360 with 1 Axes>"
      ]
     },
     "metadata": {
      "needs_background": "light"
     },
     "output_type": "display_data"
    }
   ],
   "source": [
    "sns.displot(dropped_df['O2'])"
   ]
  },
  {
   "cell_type": "code",
   "execution_count": 64,
   "id": "ae1c5b19",
   "metadata": {},
   "outputs": [
    {
     "data": {
      "text/plain": [
       "<seaborn.axisgrid.FacetGrid at 0x1dfb532ffa0>"
      ]
     },
     "execution_count": 64,
     "metadata": {},
     "output_type": "execute_result"
    },
    {
     "data": {
      "image/png": "[encoded data removed]",
      "text/plain": [
       "<Figure size 360x360 with 1 Axes>"
      ]
     },
     "metadata": {
      "needs_background": "light"
     },
     "output_type": "display_data"
    }
   ],
   "source": [
    "sns.displot(dropped_df['P4'])"
   ]
  },
  {
   "cell_type": "code",
   "execution_count": 65,
   "id": "2a131b0b",
   "metadata": {},
   "outputs": [
    {
     "data": {
      "text/plain": [
       "<seaborn.axisgrid.FacetGrid at 0x1df9fd1a8b0>"
      ]
     },
     "execution_count": 65,
     "metadata": {},
     "output_type": "execute_result"
    },
    {
     "data": {
      "image/png": "[encoded data removed]",
      "text/plain": [
       "<Figure size 360x360 with 1 Axes>"
      ]
     },
     "metadata": {
      "needs_background": "light"
     },
     "output_type": "display_data"
    }
   ],
   "source": [
    "sns.displot(dropped_df['CP6'])"
   ]
  },
  {
   "cell_type": "code",
   "execution_count": 66,
   "id": "a4547f50",
   "metadata": {},
   "outputs": [
    {
     "data": {
      "text/plain": [
       "<seaborn.axisgrid.FacetGrid at 0x1dfb254cd30>"
      ]
     },
     "execution_count": 66,
     "metadata": {},
     "output_type": "execute_result"
    },
    {
     "data": {
      "image/png": "[encoded data removed]",
      "text/plain": [
       "<Figure size 360x360 with 1 Axes>"
      ]
     },
     "metadata": {
      "needs_background": "light"
     },
     "output_type": "display_data"
    }
   ],
   "source": [
    "sns.displot(dropped_df['FT10'])"
   ]
  },
  {
   "cell_type": "code",
   "execution_count": 67,
   "id": "11202989",
   "metadata": {},
   "outputs": [
    {
     "data": {
      "text/plain": [
       "<seaborn.axisgrid.FacetGrid at 0x1dfb25af370>"
      ]
     },
     "execution_count": 67,
     "metadata": {},
     "output_type": "execute_result"
    },
    {
     "data": {
      "image/png": "[encoded data removed]",
      "text/plain": [
       "<Figure size 360x360 with 1 Axes>"
      ]
     },
     "metadata": {
      "needs_background": "light"
     },
     "output_type": "display_data"
    }
   ],
   "source": [
    "sns.displot(dropped_df['FC6'])"
   ]
  },
  {
   "cell_type": "code",
   "execution_count": 68,
   "id": "282340a1",
   "metadata": {},
   "outputs": [
    {
     "data": {
      "text/plain": [
       "<seaborn.axisgrid.FacetGrid at 0x1dfbd9acac0>"
      ]
     },
     "execution_count": 68,
     "metadata": {},
     "output_type": "execute_result"
    },
    {
     "data": {
      "image/png": "[encoded data removed]",
      "text/plain": [
       "<Figure size 360x360 with 1 Axes>"
      ]
     },
     "metadata": {
      "needs_background": "light"
     },
     "output_type": "display_data"
    }
   ],
   "source": [
    "sns.displot(dropped_df['F8'])"
   ]
  },
  {
   "cell_type": "code",
   "execution_count": 69,
   "id": "d6436e5f",
   "metadata": {},
   "outputs": [
    {
     "data": {
      "text/plain": [
       "<seaborn.axisgrid.FacetGrid at 0x1dfb531b0d0>"
      ]
     },
     "execution_count": 69,
     "metadata": {},
     "output_type": "execute_result"
    },
    {
     "data": {
      "image/png": "[encoded data removed]",
      "text/plain": [
       "<Figure size 360x360 with 1 Axes>"
      ]
     },
     "metadata": {
      "needs_background": "light"
     },
     "output_type": "display_data"
    }
   ],
   "source": [
    "sns.displot(dropped_df['Fp2'])"
   ]
  },
  {
   "cell_type": "code",
   "execution_count": 70,
   "id": "3434baaa",
   "metadata": {},
   "outputs": [
    {
     "data": {
      "text/plain": [
       "<seaborn.axisgrid.FacetGrid at 0x1df873166a0>"
      ]
     },
     "execution_count": 70,
     "metadata": {},
     "output_type": "execute_result"
    },
    {
     "data": {
      "image/png": "[encoded data removed]",
      "text/plain": [
       "<Figure size 360x360 with 1 Axes>"
      ]
     },
     "metadata": {
      "needs_background": "light"
     },
     "output_type": "display_data"
    }
   ],
   "source": [
    "sns.displot(dropped_df['Scale'])"
   ]
  },
  {
   "cell_type": "markdown",
   "id": "011835b0",
   "metadata": {},
   "source": [
    "#### Check the Skewness of features.\n",
    "- Distributions are symmetrical and unaffected by distortions.."
   ]
  },
  {
   "cell_type": "code",
   "execution_count": 71,
   "id": "2cc7ec22",
   "metadata": {},
   "outputs": [
    {
     "name": "stdout",
     "output_type": "stream",
     "text": [
      "Skewness for CZ is 0.004582212690596414\n",
      "Skewness for FZ is 0.05529296484588765\n",
      "Skewness for Fp1 is 0.11136097320510044\n",
      "Skewness for F3 is 0.03553148164450839\n",
      "Skewness for FC1 is 0.014966000083597435\n",
      "Skewness for FC5 is 0.0014936963357424435\n",
      "Skewness for FT9 is 0.017686258305067665\n",
      "Skewness for T7 is 0.025085140458883243\n",
      "Skewness for CP5 is 0.026175738818812057\n",
      "Skewness for P3 is 0.01600630288772407\n",
      "Skewness for P7 is 0.034599635110546395\n",
      "Skewness for PO9 is 0.06316074191971217\n",
      "Skewness for PZ is 0.022583283535248286\n",
      "Skewness for O2 is 0.043218072806530054\n",
      "Skewness for P4 is 0.0051216236278820056\n",
      "Skewness for CP6 is -0.0022007723222119005\n",
      "Skewness for FT10 is -0.016727966084740847\n",
      "Skewness for FC6 is -0.00904262626482699\n",
      "Skewness for F8 is 0.05261755127449865\n",
      "Skewness for Fp2 is 0.1382824454996162\n",
      "Skewness for Scale is 0.0\n"
     ]
    }
   ],
   "source": [
    "for i in new_df.columns :\n",
    "    print(\"Skewness for {} is {}\".format(i, new_df[i].astype(float).skew()))"
   ]
  },
  {
   "cell_type": "markdown",
   "id": "2c724797",
   "metadata": {},
   "source": [
    "#### Check the Kurtosis of the features.\n",
    "- Distributions are symmetrical and unaffected by distortions."
   ]
  },
  {
   "cell_type": "code",
   "execution_count": 72,
   "id": "c7c5faac",
   "metadata": {},
   "outputs": [
    {
     "name": "stdout",
     "output_type": "stream",
     "text": [
      "Kurtosis for CZ is 0.20163826904385607\n",
      "Kurtosis for FZ is 0.26664070588481037\n",
      "Kurtosis for Fp1 is 0.4494835348478241\n",
      "Kurtosis for F3 is 0.3734107370047792\n",
      "Kurtosis for FC1 is 0.29403212950124313\n",
      "Kurtosis for FC5 is 0.3675326330678992\n",
      "Kurtosis for FT9 is 0.44539298614595424\n",
      "Kurtosis for T7 is 0.40414002404134086\n",
      "Kurtosis for CP5 is 0.22401161240597744\n",
      "Kurtosis for P3 is 0.25055942579018664\n",
      "Kurtosis for P7 is 0.23372016090622916\n",
      "Kurtosis for PO9 is 0.3453284598357933\n",
      "Kurtosis for PZ is 0.5542141025070593\n",
      "Kurtosis for O2 is 0.3243649183492989\n",
      "Kurtosis for P4 is 0.42423158819405415\n",
      "Kurtosis for CP6 is 0.2552812778746949\n",
      "Kurtosis for FT10 is 0.2363367038738482\n",
      "Kurtosis for FC6 is 0.3210114018836383\n",
      "Kurtosis for F8 is 0.306121826181768\n",
      "Kurtosis for Fp2 is 0.565399381796476\n",
      "Kurtosis for Scale is -1.2200007101243666\n"
     ]
    }
   ],
   "source": [
    "for i in new_df.columns :\n",
    "    print(\"Kurtosis for {} is {}\".format(i, new_df[i].astype(float).kurt()))"
   ]
  },
  {
   "cell_type": "markdown",
   "id": "af8730e1",
   "metadata": {},
   "source": [
    "#### Check for duplicate instances."
   ]
  },
  {
   "cell_type": "code",
   "execution_count": 73,
   "id": "57688e7d",
   "metadata": {},
   "outputs": [
    {
     "data": {
      "text/plain": [
       "0"
      ]
     },
     "execution_count": 73,
     "metadata": {},
     "output_type": "execute_result"
    }
   ],
   "source": [
    "len(new_df[new_df.drop('Scale', axis = 1).duplicated()])"
   ]
  },
  {
   "cell_type": "markdown",
   "id": "203de7ef",
   "metadata": {},
   "source": [
    "#### Create the new CSV file."
   ]
  },
  {
   "cell_type": "code",
   "execution_count": 74,
   "id": "85d2d271",
   "metadata": {},
   "outputs": [],
   "source": [
    "new_df.to_csv('../dataset/preprocessed-sam-dataset.csv', sep='|', index=False, header=True)"
   ]
  },
  {
   "cell_type": "code",
   "execution_count": null,
   "id": "3117e3be",
   "metadata": {},
   "outputs": [],
   "source": []
  }
 ],
 "metadata": {
  "kernelspec": {
   "display_name": "Python 3 (ipykernel)",
   "language": "python",
   "name": "python3"
  },
  "language_info": {
   "codemirror_mode": {
    "name": "ipython",
    "version": 3
   },
   "file_extension": ".py",
   "mimetype": "text/x-python",
   "name": "python",
   "nbconvert_exporter": "python",
   "pygments_lexer": "ipython3",
   "version": "3.9.7"
  }
 },
 "nbformat": 4,
 "nbformat_minor": 5
}
